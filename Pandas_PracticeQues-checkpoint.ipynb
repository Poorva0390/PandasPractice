{
 "cells": [
  {
   "cell_type": "code",
   "execution_count": 1,
   "metadata": {},
   "outputs": [],
   "source": [
    "import pandas as pd"
   ]
  },
  {
   "cell_type": "code",
   "execution_count": 6,
   "metadata": {},
   "outputs": [
    {
     "name": "stdout",
     "output_type": "stream",
     "text": [
      "0    p\n",
      "1    o\n",
      "2    o\n",
      "3    r\n",
      "4    v\n",
      "5    a\n",
      "dtype: object\n"
     ]
    }
   ],
   "source": [
    "#Create a series from a list\n",
    "mylist= list('poorva')\n",
    "series_list = pd.Series(mylist)\n",
    "print(series_list)\n"
   ]
  },
  {
   "cell_type": "code",
   "execution_count": 13,
   "metadata": {},
   "outputs": [
    {
     "name": "stdout",
     "output_type": "stream",
     "text": [
      "0    0\n",
      "1    1\n",
      "2    2\n",
      "3    3\n",
      "4    4\n",
      "5    5\n",
      "dtype: int32\n"
     ]
    }
   ],
   "source": [
    "#Create a series from an array\n",
    "\n",
    "import numpy as np\n",
    "myarr= np.arange(6)\n",
    "series_array = pd.Series(myarr)\n",
    "print(series_array)"
   ]
  },
  {
   "cell_type": "code",
   "execution_count": 12,
   "metadata": {},
   "outputs": [
    {
     "name": "stdout",
     "output_type": "stream",
     "text": [
      "{'p': 0, 'o': 2, 'r': 3, 'v': 4, 'a': 5}\n"
     ]
    }
   ],
   "source": [
    "#Create a series from dictionary\n",
    "\n",
    "mydict= dict(zip(mylist,myarr))\n",
    "series_dict= pd.Series(mydict)\n",
    "print(mydict)"
   ]
  },
  {
   "cell_type": "code",
   "execution_count": 16,
   "metadata": {},
   "outputs": [
    {
     "name": "stdout",
     "output_type": "stream",
     "text": [
      "  index  0\n",
      "0     p  0\n",
      "1     o  2\n",
      "2     r  3\n",
      "3     v  4\n",
      "4     a  5\n"
     ]
    }
   ],
   "source": [
    "# Convert Index of a Series into a column of a dataframe\n",
    "\n",
    "series_to_Df = series_dict.to_frame().reset_index()\n",
    "print(series_to_Df)\n",
    "\n"
   ]
  },
  {
   "cell_type": "code",
   "execution_count": null,
   "metadata": {},
   "outputs": [],
   "source": []
  }
 ],
 "metadata": {
  "kernelspec": {
   "display_name": "Python 3",
   "language": "python",
   "name": "python3"
  },
  "language_info": {
   "codemirror_mode": {
    "name": "ipython",
    "version": 3
   },
   "file_extension": ".py",
   "mimetype": "text/x-python",
   "name": "python",
   "nbconvert_exporter": "python",
   "pygments_lexer": "ipython3",
   "version": "3.7.6"
  }
 },
 "nbformat": 4,
 "nbformat_minor": 4
}
